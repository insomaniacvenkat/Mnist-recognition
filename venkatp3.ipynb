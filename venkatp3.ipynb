{
  "nbformat": 4,
  "nbformat_minor": 0,
  "metadata": {
    "colab": {
      "name": "venkatp3.ipynb",
      "provenance": []
    },
    "kernelspec": {
      "display_name": "Python 3",
      "language": "python",
      "name": "python3"
    },
    "language_info": {
      "codemirror_mode": {
        "name": "ipython",
        "version": 3
      },
      "file_extension": ".py",
      "mimetype": "text/x-python",
      "name": "python",
      "nbconvert_exporter": "python",
      "pygments_lexer": "ipython3",
      "version": "3.8.5"
    }
  },
  "cells": [
    {
      "cell_type": "code",
      "metadata": {
        "id": "ivGLQJ1tBa42"
      },
      "source": [
        "import sys\n",
        "import numpy as np\n",
        "import pickle\n",
        "from sklearn import model_selection, svm, preprocessing\n",
        "from sklearn.metrics import accuracy_score,confusion_matrix\n",
        "import matplotlib.pyplot as plt\n",
        "from matplotlib import style\n",
        "from mlxtend.data import loadlocal_mnist\n",
        "import platform\n",
        "from sklearn.svm import SVC\n",
        "from sklearn.metrics import r2_score\n",
        "from sklearn.metrics import accuracy_score\n",
        "import cv2\n",
        "\n",
        "\n",
        "style.use('ggplot')"
      ],
      "execution_count": 27,
      "outputs": []
    },
    {
      "cell_type": "code",
      "metadata": {
        "id": "h-Mj5NX_Bm78"
      },
      "source": [
        "x, y = loadlocal_mnist(\n",
        "        images_path='/content/train-images.idx3-ubyte', \n",
        "        labels_path='/content/train-labels.idx1-ubyte')"
      ],
      "execution_count": 6,
      "outputs": []
    },
    {
      "cell_type": "code",
      "metadata": {
        "colab": {
          "base_uri": "https://localhost:8080/"
        },
        "id": "daUqo4OpCv4B",
        "outputId": "86b681f1-e75b-488c-faff-c036fb718b9f"
      },
      "source": [
        "print('Dimensions: %s x %s' % (x.shape[0], x.shape[1]))"
      ],
      "execution_count": 7,
      "outputs": [
        {
          "output_type": "stream",
          "text": [
            "Dimensions: 60000 x 784\n"
          ],
          "name": "stdout"
        }
      ]
    },
    {
      "cell_type": "code",
      "metadata": {
        "colab": {
          "base_uri": "https://localhost:8080/"
        },
        "id": "oCzibeFZDUKp",
        "outputId": "d00cd004-d6f0-4192-d5f2-d016f91f8f88"
      },
      "source": [
        "x_train=x[0:1000]\n",
        "y_train=y[0:1000]\n",
        "x_test=x[2000:2100]\n",
        "y_test=y[2000:2100]\n",
        "svm = SVC(kernel = 'linear')\n",
        "svm.fit(x_train, y_train)\n",
        "prediction=svm.predict(x_test)\n",
        "print(prediction)"
      ],
      "execution_count": 8,
      "outputs": [
        {
          "output_type": "stream",
          "text": [
            "[9 8 8 4 2 6 9 7 1 0 2 3 1 8 9 1 8 2 7 2 6 3 2 5 7 6 8 7 4 5 8 4 4 9 2 6 2\n",
            " 5 5 1 1 9 8 8 1 1 4 1 7 5 4 0 9 2 7 7 5 8 0 6 9 6 6 8 2 2 0 8 8 4 1 4 4 2\n",
            " 3 2 3 8 8 0 5 0 0 1 0 2 1 3 3 4 7 5 5 6 1 7 6 8 7 9]\n"
          ],
          "name": "stdout"
        }
      ]
    },
    {
      "cell_type": "code",
      "metadata": {
        "colab": {
          "base_uri": "https://localhost:8080/"
        },
        "id": "p5lB4KB7EFT1",
        "outputId": "11365493-41d1-4310-a628-7948faedc291"
      },
      "source": [
        "accuracy = r2_score(y_test, prediction)\n",
        "print(accuracy*100)"
      ],
      "execution_count": 10,
      "outputs": [
        {
          "output_type": "stream",
          "text": [
            "67.59984469347043\n"
          ],
          "name": "stdout"
        }
      ]
    },
    {
      "cell_type": "code",
      "metadata": {
        "colab": {
          "base_uri": "https://localhost:8080/"
        },
        "id": "JAHGNz8bEWGE",
        "outputId": "1a6a499b-fca3-4e5f-cd44-5e3aade2cc5c"
      },
      "source": [
        "print(x_train.shape)\n",
        "print(y_test.shape)"
      ],
      "execution_count": 11,
      "outputs": [
        {
          "output_type": "stream",
          "text": [
            "(1000, 784)\n",
            "(100,)\n"
          ],
          "name": "stdout"
        }
      ]
    },
    {
      "cell_type": "code",
      "metadata": {
        "colab": {
          "base_uri": "https://localhost:8080/"
        },
        "id": "ADXPB23AEYrA",
        "outputId": "e52a5974-7102-4e49-eafa-ae23dc8d7bb1"
      },
      "source": [
        "x_train=x[0:10000]\n",
        "y_train=y[0:10000]\n",
        "x_test=x[20000:20100]\n",
        "y_test=y[20000:20100]\n",
        "svm = SVC(kernel = 'linear')\n",
        "svm.fit(x_train, y_train)\n",
        "prediction=svm.predict(x_test)\n",
        "accuracy2 = r2_score(y_test, prediction)\n",
        "print(accuracy2)\n",
        "print(prediction)"
      ],
      "execution_count": 13,
      "outputs": [
        {
          "output_type": "stream",
          "text": [
            "0.6206486164831895\n",
            "[5 9 7 3 7 6 5 2 4 3 0 4 0 6 8 8 8 5 3 7 8 2 2 3 8 8 9 1 2 2 4 9 7 3 5 8 3\n",
            " 0 5 9 4 1 2 7 5 1 1 1 7 0 9 3 1 4 1 2 4 6 1 4 0 7 8 4 1 2 1 7 0 4 1 2 3 9\n",
            " 4 9 6 2 2 8 3 6 4 1 9 0 9 6 8 8 7 5 5 5 1 0 3 5 4 3]\n"
          ],
          "name": "stdout"
        }
      ]
    },
    {
      "cell_type": "code",
      "metadata": {
        "colab": {
          "base_uri": "https://localhost:8080/"
        },
        "id": "ETzXMp--XOZs",
        "outputId": "e00810d1-d68a-4b5e-a06e-9b9f6a9a0c72"
      },
      "source": [
        "x_train=x[0:10000]\r\n",
        "y_train=y[0:10000]\r\n",
        "x_test=x[20000:21000]\r\n",
        "y_test=y[20000:21000]\r\n",
        "svm = SVC(kernel = 'linear')\r\n",
        "svm.fit(x_train, y_train)\r\n",
        "prediction=svm.predict(x_test)\r\n",
        "accuracy2 = r2_score(y_test, prediction)\r\n",
        "print(accuracy2)\r\n",
        "print(prediction)"
      ],
      "execution_count": 14,
      "outputs": [
        {
          "output_type": "stream",
          "text": [
            "0.8111864549404995\n",
            "[5 9 7 3 7 6 5 2 4 3 0 4 0 6 8 8 8 5 3 7 8 2 2 3 8 8 9 1 2 2 4 9 7 3 5 8 3\n",
            " 0 5 9 4 1 2 7 5 1 1 1 7 0 9 3 1 4 1 2 4 6 1 4 0 7 8 4 1 2 1 7 0 4 1 2 3 9\n",
            " 4 9 6 2 2 8 3 6 4 1 9 0 9 6 8 8 7 5 5 5 1 0 3 5 4 3 2 5 5 9 6 7 8 8 1 3 4\n",
            " 9 9 6 0 9 8 0 4 6 9 3 6 0 6 3 9 8 0 9 9 1 1 8 7 1 6 6 9 0 5 0 6 1 4 2 1 3\n",
            " 6 4 3 5 6 6 6 7 6 8 7 9 2 0 7 1 9 2 3 3 6 6 9 2 2 6 0 0 4 1 1 2 4 5 4 4 9\n",
            " 5 5 6 4 7 5 8 8 9 1 1 7 4 8 5 5 3 9 3 8 0 4 9 4 5 5 9 1 3 7 0 9 8 7 4 3 6\n",
            " 3 7 2 0 2 7 9 7 4 1 1 6 4 9 4 1 0 2 2 9 2 3 0 6 5 2 7 3 4 4 3 6 9 7 0 2 7\n",
            " 3 7 8 4 1 9 2 5 9 2 8 9 8 6 7 1 1 4 7 3 1 7 1 9 0 2 3 6 4 6 2 9 6 0 4 4 7\n",
            " 7 4 1 2 8 7 1 4 7 2 5 9 9 2 7 9 7 2 3 8 9 6 7 1 6 0 1 6 6 5 3 1 2 3 9 5 1\n",
            " 9 0 7 8 4 4 8 1 9 5 6 3 9 4 3 1 0 7 0 3 6 7 3 3 0 9 5 9 1 8 0 8 1 9 6 4 0\n",
            " 7 0 8 1 5 2 9 3 3 4 7 5 2 6 1 7 7 8 0 9 5 0 0 1 1 2 4 3 7 4 3 6 4 7 7 8 7\n",
            " 0 3 1 9 2 5 3 2 4 6 7 0 8 0 9 7 3 2 4 3 1 5 4 3 6 2 6 9 7 2 3 1 3 2 2 2 1\n",
            " 1 9 2 4 8 7 9 3 7 5 2 4 1 9 3 1 4 1 9 0 4 1 7 4 4 6 3 0 8 2 1 1 9 7 0 5 6\n",
            " 0 0 0 4 2 6 0 2 6 4 8 3 2 6 9 4 2 7 3 3 7 2 6 7 9 1 8 9 7 0 8 6 9 2 2 8 2\n",
            " 9 9 2 8 2 6 8 4 2 4 5 8 5 0 7 0 6 8 1 0 1 8 3 6 2 6 3 8 9 5 0 7 2 0 7 3 9\n",
            " 6 1 7 7 8 5 3 9 1 5 3 7 7 2 3 3 9 4 9 4 5 7 0 0 7 8 2 7 7 0 4 5 3 7 1 5 0\n",
            " 8 1 9 2 6 3 5 4 9 5 0 6 1 7 3 8 0 0 3 1 2 2 2 3 3 4 8 7 4 8 0 3 2 0 3 1 5\n",
            " 2 8 3 0 4 4 5 4 6 9 8 8 8 0 1 9 0 7 6 8 3 4 4 9 4 1 2 6 8 0 1 8 0 0 6 3 4\n",
            " 8 9 5 7 3 2 2 3 1 3 7 9 1 2 4 0 6 9 7 3 1 3 0 9 8 1 9 5 7 2 4 3 9 1 9 6 4\n",
            " 7 6 3 1 7 3 3 2 4 8 0 4 2 8 4 3 0 1 2 8 7 0 5 4 0 3 7 4 0 8 6 7 0 6 3 3 2\n",
            " 7 4 2 1 6 6 1 0 2 1 9 0 3 8 5 1 3 6 8 7 1 2 0 9 6 7 7 7 4 5 2 3 1 7 8 6 4\n",
            " 5 9 2 3 6 6 2 2 8 2 1 9 7 3 5 9 5 4 7 6 3 2 5 3 0 1 1 5 3 6 8 6 4 1 9 8 4\n",
            " 0 5 0 1 9 8 8 6 6 8 1 9 9 0 1 1 4 2 2 3 7 4 4 5 1 6 0 9 3 0 3 1 0 2 1 0 2\n",
            " 4 1 2 5 6 7 7 8 2 5 9 2 0 9 1 7 2 3 2 1 9 3 8 2 1 8 0 5 9 8 5 2 7 1 5 0 1\n",
            " 1 8 5 6 6 9 4 0 6 4 1 1 9 9 3 5 5 2 8 4 4 7 2 0 1 1 5 9 8 2 4 8 9 7 5 8 9\n",
            " 9 3 6 0 0 2 6 4 5 0 5 0 2 8 2 6 3 5 9 8 8 2 0 5 6 4 1 3 0 3 0 4 6 0 4 2 1\n",
            " 4 1 9 3 8 4 8 7 2 7 4 8 1 2 4 7 6 0 7 2 7 0 6 3 8 1 1 6 1 7 2 2 5 4 7 9 6\n",
            " 4]\n"
          ],
          "name": "stdout"
        }
      ]
    },
    {
      "cell_type": "code",
      "metadata": {
        "id": "KGqlwPtvGmLJ"
      },
      "source": [
        "conf_mat = confusion_matrix(y_test,prediction)"
      ],
      "execution_count": 16,
      "outputs": []
    },
    {
      "cell_type": "code",
      "metadata": {
        "colab": {
          "base_uri": "https://localhost:8080/",
          "height": 264
        },
        "id": "osRhAqLaGtS4",
        "outputId": "827a5341-94d2-4860-ec29-e951c9f9f531"
      },
      "source": [
        "plt.matshow(conf_mat)\n",
        "plt.title('Confusion Matrix')\n",
        "plt.colorbar()\n",
        "plt.ylabel('True label')\n",
        "plt.xlabel('Predicted label')\n",
        "plt.show()"
      ],
      "execution_count": null,
      "outputs": [
        {
          "output_type": "display_data",
          "data": {
            "image/png": "[encoded data removed]",
            "text/plain": [
              "<Figure size 288x288 with 2 Axes>"
            ]
          },
          "metadata": {
            "tags": []
          }
        }
      ]
    },
    {
      "cell_type": "code",
      "metadata": {
        "id": "dy4I7IT3HFkn"
      },
      "source": [
        "x_train=x[0:10000]\n",
        "y_train=y[0:10000]\n",
        "x_test=x[20000:21000]\n",
        "y_test=y[20000:21000]\n",
        "svm = SVC(kernel = 'poly')\n",
        "svm.fit(x_train, y_train)\n",
        "pred=svm.predict(x_test)"
      ],
      "execution_count": 17,
      "outputs": []
    },
    {
      "cell_type": "code",
      "metadata": {
        "id": "GBTis5lrHWJq"
      },
      "source": [
        "x_train=x[0:10000]\n",
        "y_train=y[0:10000]\n",
        "x_test=x[20000:21000]\n",
        "y_test=y[20000:21000]\n",
        "svm = SVC(kernel = 'sigmoid')\n",
        "svm.fit(x_train, y_train)\n",
        "prediction=svm.predict(x_test)\n"
      ],
      "execution_count": 19,
      "outputs": []
    },
    {
      "cell_type": "code",
      "metadata": {
        "colab": {
          "base_uri": "https://localhost:8080/"
        },
        "id": "OqCTmT8hH-8H",
        "outputId": "f826db72-c8ba-4aee-d9df-b1c5d6cd3c8f"
      },
      "source": [
        "accuracy3 = accuracy_score(y_test, prediction)\n",
        "print(accuracy3*100)"
      ],
      "execution_count": 20,
      "outputs": [
        {
          "output_type": "stream",
          "text": [
            "80.80000000000001\n"
          ],
          "name": "stdout"
        }
      ]
    },
    {
      "cell_type": "code",
      "metadata": {
        "id": "N-rYOaOiIPL-"
      },
      "source": [
        "x_train=x[0:10000]\n",
        "y_train=y[0:10000]\n",
        "x_test=x[20000:21000]\n",
        "y_test=y[20000:21000]\n",
        "svm = SVC(kernel = 'poly')\n",
        "svm.fit(x_train, y_train)\n",
        "prediction=svm.predict(x_test)"
      ],
      "execution_count": 21,
      "outputs": []
    },
    {
      "cell_type": "code",
      "metadata": {
        "colab": {
          "base_uri": "https://localhost:8080/"
        },
        "id": "PfQaqhAhKu7E",
        "outputId": "1cbc5b7b-ded9-439a-8648-dabfcf6b9b39"
      },
      "source": [
        "accuracy4 = accuracy_score(y_test, prediction)\n",
        "print(accuracy4*100)"
      ],
      "execution_count": 22,
      "outputs": [
        {
          "output_type": "stream",
          "text": [
            "94.89999999999999\n"
          ],
          "name": "stdout"
        }
      ]
    },
    {
      "cell_type": "code",
      "metadata": {
        "colab": {
          "base_uri": "https://localhost:8080/"
        },
        "id": "i5T463LfLfUu",
        "outputId": "0aa19027-2d0f-433f-ecfc-f48fb5daf5e7"
      },
      "source": [
        "width, height = 28, 28\n",
        "x_train = x_train.reshape((x_train.shape[0], width, height))\n",
        "x_test = x_test.reshape((x_test.shape[0], width, height))\n",
        "x_train.shape"
      ],
      "execution_count": 23,
      "outputs": [
        {
          "output_type": "execute_result",
          "data": {
            "text/plain": [
              "(10000, 28, 28)"
            ]
          },
          "metadata": {
            "tags": []
          },
          "execution_count": 23
        }
      ]
    },
    {
      "cell_type": "code",
      "metadata": {
        "colab": {
          "base_uri": "https://localhost:8080/",
          "height": 300
        },
        "id": "a8AOBZPFLvRQ",
        "outputId": "3c8c3d33-1d65-4534-c095-1acc7fb033bd"
      },
      "source": [
        "image_index = 0\n",
        "print(y_train[image_index])\n",
        "plt.imshow(x_train[image_index], cmap='jet')"
      ],
      "execution_count": 24,
      "outputs": [
        {
          "output_type": "stream",
          "text": [
            "5\n"
          ],
          "name": "stdout"
        },
        {
          "output_type": "execute_result",
          "data": {
            "text/plain": [
              "<matplotlib.image.AxesImage at 0x7f701eaeefd0>"
            ]
          },
          "metadata": {
            "tags": []
          },
          "execution_count": 24
        },
        {
          "output_type": "display_data",
          "data": {
            "image/png": "[encoded data removed]",
            "text/plain": [
              "<Figure size 432x288 with 1 Axes>"
            ]
          },
          "metadata": {
            "tags": []
          }
        }
      ]
    },
    {
      "cell_type": "code",
      "metadata": {
        "colab": {
          "base_uri": "https://localhost:8080/",
          "height": 1000
        },
        "id": "0lObBYkWMILI",
        "outputId": "5668e481-5858-4ade-8d72-fde6cbf9e7d6"
      },
      "source": [
        "test_img = np.array(x_test)\n",
        "test_labels = np.array(y_test)\n",
        "a = np.random.randint(1,60,15)\n",
        "for i in a:\n",
        "\ttwo_d = (np.reshape(test_img[i], (28, 28)) * 255).astype(np.uint8)\n",
        "\tplt.imshow(two_d, interpolation='nearest',cmap='jet')\n",
        "\tplt.show()\n"
      ],
      "execution_count": 25,
      "outputs": [
        {
          "output_type": "display_data",
          "data": {
            "image/png": "[encoded data removed]",
            "text/plain": [
              "<Figure size 432x288 with 1 Axes>"
            ]
          },
          "metadata": {
            "tags": []
          }
        },
        {
          "output_type": "display_data",
          "data": {
            "image/png": "[encoded data removed]",
            "text/plain": [
              "<Figure size 432x288 with 1 Axes>"
            ]
          },
          "metadata": {
            "tags": []
          }
        },
        {
          "output_type": "display_data",
          "data": {
            "image/png": "[encoded data removed]",
            "text/plain": [
              "<Figure size 432x288 with 1 Axes>"
            ]
          },
          "metadata": {
            "tags": []
          }
        },
        {
          "output_type": "display_data",
          "data": {
            "image/png": "[encoded data removed]",
            "text/plain": [
              "<Figure size 432x288 with 1 Axes>"
            ]
          },
          "metadata": {
            "tags": []
          }
        },
        {
          "output_type": "display_data",
          "data": {
            "image/png": "[encoded data removed]",
            "text/plain": [
              "<Figure size 432x288 with 1 Axes>"
            ]
          },
          "metadata": {
            "tags": []
          }
        },
        {
          "output_type": "display_data",
          "data": {
            "image/png": "[encoded data removed]",
            "text/plain": [
              "<Figure size 432x288 with 1 Axes>"
            ]
          },
          "metadata": {
            "tags": []
          }
        },
        {
          "output_type": "display_data",
          "data": {
            "image/png": "[encoded data removed]",
            "text/plain": [
              "<Figure size 432x288 with 1 Axes>"
            ]
          },
          "metadata": {
            "tags": []
          }
        },
        {
          "output_type": "display_data",
          "data": {
            "image/png": "[encoded data removed]",
            "text/plain": [
              "<Figure size 432x288 with 1 Axes>"
            ]
          },
          "metadata": {
            "tags": []
          }
        },
        {
          "output_type": "display_data",
          "data": {
            "image/png": "[encoded data removed]",
            "text/plain": [
              "<Figure size 432x288 with 1 Axes>"
            ]
          },
          "metadata": {
            "tags": []
          }
        },
        {
          "output_type": "display_data",
          "data": {
            "image/png": "[encoded data removed]",
            "text/plain": [
              "<Figure size 432x288 with 1 Axes>"
            ]
          },
          "metadata": {
            "tags": []
          }
        },
        {
          "output_type": "display_data",
          "data": {
            "image/png": "[encoded data removed]",
            "text/plain": [
              "<Figure size 432x288 with 1 Axes>"
            ]
          },
          "metadata": {
            "tags": []
          }
        },
        {
          "output_type": "display_data",
          "data": {
            "image/png": "[encoded data removed]",
            "text/plain": [
              "<Figure size 432x288 with 1 Axes>"
            ]
          },
          "metadata": {
            "tags": []
          }
        },
        {
          "output_type": "display_data",
          "data": {
            "image/png": "[encoded data removed]",
            "text/plain": [
              "<Figure size 432x288 with 1 Axes>"
            ]
          },
          "metadata": {
            "tags": []
          }
        },
        {
          "output_type": "display_data",
          "data": {
            "image/png": "[encoded data removed]",
            "text/plain": [
              "<Figure size 432x288 with 1 Axes>"
            ]
          },
          "metadata": {
            "tags": []
          }
        },
        {
          "output_type": "display_data",
          "data": {
            "image/png": "[encoded data removed]",
            "text/plain": [
              "<Figure size 432x288 with 1 Axes>"
            ]
          },
          "metadata": {
            "tags": []
          }
        }
      ]
    },
    {
      "cell_type": "code",
      "metadata": {
        "colab": {
          "base_uri": "https://localhost:8080/",
          "height": 150
        },
        "id": "jaxBD0VmsRxi",
        "outputId": "07218fa6-7568-4545-f582-19eca0d3e66e"
      },
      "source": [
        "ret,thresh1 = cv2.threshold(x_train[104],64,255,cv2.THRESH_BINARY)\r\n",
        "ret,thresh2 = cv2.threshold(x_train[104],64,255,cv2.THRESH_BINARY_INV)\r\n",
        "\r\n",
        "titles = ['BINARY','BINARY_INV']\r\n",
        "images = [thresh1, thresh2]\r\n",
        "# plt.imshow(thresh1)\r\n",
        "for i in range(2):\r\n",
        "    plt.subplot(2,3,i+1),plt.imshow(images[i],'jet')\r\n",
        "    plt.title(titles[i])\r\n",
        "    plt.xticks([]),plt.yticks([])\r\n",
        "\r\n",
        "plt.show()"
      ],
      "execution_count": 28,
      "outputs": [
        {
          "output_type": "display_data",
          "data": {
            "image/png": "[encoded data removed]",
            "text/plain": [
              "<Figure size 432x288 with 2 Axes>"
            ]
          },
          "metadata": {
            "tags": []
          }
        }
      ]
    }
  ]
}